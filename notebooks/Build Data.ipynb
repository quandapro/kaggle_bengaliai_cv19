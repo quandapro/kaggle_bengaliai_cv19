{
 "cells": [
  {
   "cell_type": "code",
   "execution_count": null,
   "metadata": {},
   "outputs": [],
   "source": [
    "import os\n",
    "import numpy as np\n",
    "import cv2\n",
    "import pandas as pd\n",
    "from tqdm import tqdm_notebook"
   ]
  },
  {
   "cell_type": "code",
   "execution_count": null,
   "metadata": {},
   "outputs": [],
   "source": [
    "OUTPUT_FOLDER = '../data/train_images_64x128'\n",
    "DATA_FOLDER = '../data'\n",
    "HEIGHT = 137\n",
    "WIDTH = 236\n",
    "SIZE = 128"
   ]
  },
  {
   "cell_type": "code",
   "execution_count": null,
   "metadata": {},
   "outputs": [],
   "source": [
    "def center_image(image):\n",
    "    mid = (image.max() - image.min()) / 2\n",
    "    mask = image > mid\n",
    "    image = image[np.ix_(mask.any(1),mask.any(0))]\n",
    "    new_image = np.zeros((137, 236), dtype=np.uint8)\n",
    "    top_left = ((137 - image.shape[0]) // 2, (236 - image.shape[1]) // 2)\n",
    "    new_image[top_left[0]:top_left[0] + image.shape[0], top_left[1]:top_left[1] + image.shape[1]] = image\n",
    "    return cv2.resize(new_image, (128, 64))\n",
    "    \n",
    "def preprocessing(image):\n",
    "    image = np.asarray(image, dtype=np.uint8)\n",
    "    image = 255 - image\n",
    "    image.resize((137, 236))\n",
    "    image = center_image(image)\n",
    "#     image = cv2.resize(image, (128, 64))\n",
    "    return image"
   ]
  },
  {
   "cell_type": "code",
   "execution_count": null,
   "metadata": {},
   "outputs": [],
   "source": [
    "data_files = os.listdir(DATA_FOLDER)\n",
    "train_parquets = []\n",
    "for file in data_files:\n",
    "    if 'train_image_data' in file:\n",
    "        train_parquets.append(file)"
   ]
  },
  {
   "cell_type": "code",
   "execution_count": null,
   "metadata": {},
   "outputs": [],
   "source": [
    "for file in train_parquets:\n",
    "    df = pd.read_parquet(os.path.join(DATA_FOLDER, file)) \n",
    "    data = df.iloc[:, 1:].values.reshape(-1, HEIGHT, WIDTH).astype(np.uint8)\n",
    "    for i in tqdm_notebook(range(len(df)), desc='output_images'):\n",
    "        image_id = df.iloc[i,0]\n",
    "        img = data[i]\n",
    "        img = preprocessing(img)\n",
    "        output_path = os.path.join(OUTPUT_FOLDER, image_id + '.png')\n",
    "        cv2.imwrite(output_path, img)"
   ]
  },
  {
   "cell_type": "code",
   "execution_count": null,
   "metadata": {},
   "outputs": [],
   "source": []
  }
 ],
 "metadata": {
  "kernelspec": {
   "display_name": "Python 3",
   "language": "python",
   "name": "python3"
  },
  "language_info": {
   "codemirror_mode": {
    "name": "ipython",
    "version": 3
   },
   "file_extension": ".py",
   "mimetype": "text/x-python",
   "name": "python",
   "nbconvert_exporter": "python",
   "pygments_lexer": "ipython3",
   "version": "3.7.3"
  }
 },
 "nbformat": 4,
 "nbformat_minor": 4
}
